{
 "cells": [
  {
   "cell_type": "code",
   "execution_count": 1,
   "id": "23ae84f0",
   "metadata": {
    "execution": {
     "iopub.execute_input": "2021-12-30T05:04:53.649400Z",
     "iopub.status.busy": "2021-12-30T05:04:53.648186Z",
     "iopub.status.idle": "2021-12-30T05:04:54.753778Z",
     "shell.execute_reply": "2021-12-30T05:04:54.752777Z",
     "shell.execute_reply.started": "2021-12-30T05:03:43.557532Z"
    },
    "papermill": {
     "duration": 1.125807,
     "end_time": "2021-12-30T05:04:54.754000",
     "exception": false,
     "start_time": "2021-12-30T05:04:53.628193",
     "status": "completed"
    },
    "tags": []
   },
   "outputs": [],
   "source": [
    "#STANDARD LIBRARIES\n",
    "import pandas as pd\n",
    "import numpy as np\n",
    "import matplotlib.pyplot as plt\n",
    "import seaborn as sns"
   ]
  },
  {
   "cell_type": "code",
   "execution_count": 2,
   "id": "c7167854",
   "metadata": {
    "execution": {
     "iopub.execute_input": "2021-12-30T05:04:54.791060Z",
     "iopub.status.busy": "2021-12-30T05:04:54.790344Z",
     "iopub.status.idle": "2021-12-30T05:04:55.185869Z",
     "shell.execute_reply": "2021-12-30T05:04:55.185203Z",
     "shell.execute_reply.started": "2021-12-30T05:03:43.565333Z"
    },
    "papermill": {
     "duration": 0.416662,
     "end_time": "2021-12-30T05:04:55.186026",
     "exception": false,
     "start_time": "2021-12-30T05:04:54.769364",
     "status": "completed"
    },
    "tags": []
   },
   "outputs": [],
   "source": [
    "#MACHINE LEARNING LIBRARIES\n",
    "from sklearn.model_selection import train_test_split\n",
    "from sklearn.preprocessing import MinMaxScaler, LabelEncoder\n",
    "from sklearn.pipeline import make_pipeline\n",
    "\n",
    "from sklearn.model_selection import GridSearchCV, RandomizedSearchCV\n",
    "\n",
    "from sklearn.linear_model import LogisticRegression\n",
    "from sklearn.tree import DecisionTreeClassifier\n",
    "from sklearn.naive_bayes import GaussianNB\n",
    "from sklearn.svm import SVC\n",
    "\n",
    "from sklearn.ensemble import RandomForestClassifier, AdaBoostClassifier, GradientBoostingClassifier, VotingClassifier\n",
    "\n",
    "from sklearn.metrics import accuracy_score, classification_report, confusion_matrix\n"
   ]
  },
  {
   "cell_type": "code",
   "execution_count": 3,
   "id": "4c9a12da",
   "metadata": {
    "execution": {
     "iopub.execute_input": "2021-12-30T05:04:55.221365Z",
     "iopub.status.busy": "2021-12-30T05:04:55.220706Z",
     "iopub.status.idle": "2021-12-30T05:04:55.266945Z",
     "shell.execute_reply": "2021-12-30T05:04:55.267484Z",
     "shell.execute_reply.started": "2021-12-30T05:03:43.581807Z"
    },
    "papermill": {
     "duration": 0.066697,
     "end_time": "2021-12-30T05:04:55.267665",
     "exception": false,
     "start_time": "2021-12-30T05:04:55.200968",
     "status": "completed"
    },
    "tags": []
   },
   "outputs": [
    {
     "name": "stdout",
     "output_type": "stream",
     "text": [
      "     b  30.83       0  u  g   w   v  1.25  t t.1  01  f g.1  00202  0.1  +\n",
      "0    a  58.67   4.460  u  g   q   h  3.04  t   t   6  f   g  00043  560  +\n",
      "1    a  24.50   0.500  u  g   q   h  1.50  t   f   0  f   g  00280  824  +\n",
      "2    b  27.83   1.540  u  g   w   v  3.75  t   t   5  t   g  00100    3  +\n",
      "3    b  20.17   5.625  u  g   w   v  1.71  t   f   0  f   s  00120    0  +\n",
      "4    b  32.08   4.000  u  g   m   v  2.50  t   f   0  t   g  00360    0  +\n",
      "..  ..    ...     ... .. ..  ..  ..   ... ..  ..  .. ..  ..    ...  ... ..\n",
      "684  b  21.08  10.085  y  p   e   h  1.25  f   f   0  f   g  00260    0  -\n",
      "685  a  22.67   0.750  u  g   c   v  2.00  f   t   2  t   g  00200  394  -\n",
      "686  a  25.25  13.500  y  p  ff  ff  2.00  f   t   1  t   g  00200    1  -\n",
      "687  b  17.92   0.205  u  g  aa   v  0.04  f   f   0  f   g  00280  750  -\n",
      "688  b  35.00   3.375  u  g   c   h  8.29  f   f   0  t   g  00000    0  -\n",
      "\n",
      "[689 rows x 16 columns]\n"
     ]
    }
   ],
   "source": [
    "#IMPORT DATASETS\n",
    "df = pd.read_csv('../input/credi-card-approval/cc_approvals.data')\n",
    "print(df)"
   ]
  },
  {
   "cell_type": "code",
   "execution_count": 4,
   "id": "18089579",
   "metadata": {
    "execution": {
     "iopub.execute_input": "2021-12-30T05:04:55.304140Z",
     "iopub.status.busy": "2021-12-30T05:04:55.303444Z",
     "iopub.status.idle": "2021-12-30T05:04:55.322662Z",
     "shell.execute_reply": "2021-12-30T05:04:55.321791Z",
     "shell.execute_reply.started": "2021-12-30T05:03:43.628138Z"
    },
    "papermill": {
     "duration": 0.039513,
     "end_time": "2021-12-30T05:04:55.322896",
     "exception": false,
     "start_time": "2021-12-30T05:04:55.283383",
     "status": "completed"
    },
    "tags": []
   },
   "outputs": [
    {
     "name": "stdout",
     "output_type": "stream",
     "text": [
      "    CC1    CC2     CC3 CC4 CC5 CC6 CC7   CC8 CC9 CC10  CC11 CC12 CC13   CC14  \\\n",
      "0     b  30.83   0.000   u   g   w   v  1.25   t    t     1    f    g  00202   \n",
      "1     a  58.67   4.460   u   g   q   h  3.04   t    t     6    f    g  00043   \n",
      "2     a  24.50   0.500   u   g   q   h  1.50   t    f     0    f    g  00280   \n",
      "3     b  27.83   1.540   u   g   w   v  3.75   t    t     5    t    g  00100   \n",
      "4     b  20.17   5.625   u   g   w   v  1.71   t    f     0    f    s  00120   \n",
      "..   ..    ...     ...  ..  ..  ..  ..   ...  ..  ...   ...  ...  ...    ...   \n",
      "685   b  21.08  10.085   y   p   e   h  1.25   f    f     0    f    g  00260   \n",
      "686   a  22.67   0.750   u   g   c   v  2.00   f    t     2    t    g  00200   \n",
      "687   a  25.25  13.500   y   p  ff  ff  2.00   f    t     1    t    g  00200   \n",
      "688   b  17.92   0.205   u   g  aa   v  0.04   f    f     0    f    g  00280   \n",
      "689   b  35.00   3.375   u   g   c   h  8.29   f    f     0    t    g  00000   \n",
      "\n",
      "     CC15 CC16  \n",
      "0       0    +  \n",
      "1     560    +  \n",
      "2     824    +  \n",
      "3       3    +  \n",
      "4       0    +  \n",
      "..    ...  ...  \n",
      "685     0    -  \n",
      "686   394    -  \n",
      "687     1    -  \n",
      "688   750    -  \n",
      "689     0    -  \n",
      "\n",
      "[690 rows x 16 columns]\n"
     ]
    }
   ],
   "source": [
    "header_list=[]\n",
    "\n",
    "for col in range(len(df.columns)):\n",
    "    c = \"CC{}\".format(col+1)\n",
    "    header_list.append(c)\n",
    "\n",
    "df = pd.read_csv('../input/credi-card-approval/cc_approvals.data', header=None, names=header_list)\n",
    "print(df)"
   ]
  },
  {
   "cell_type": "code",
   "execution_count": 5,
   "id": "573c43ef",
   "metadata": {
    "execution": {
     "iopub.execute_input": "2021-12-30T05:04:55.359177Z",
     "iopub.status.busy": "2021-12-30T05:04:55.358156Z",
     "iopub.status.idle": "2021-12-30T05:04:55.395464Z",
     "shell.execute_reply": "2021-12-30T05:04:55.394922Z",
     "shell.execute_reply.started": "2021-12-30T05:03:43.647275Z"
    },
    "papermill": {
     "duration": 0.055928,
     "end_time": "2021-12-30T05:04:55.395598",
     "exception": false,
     "start_time": "2021-12-30T05:04:55.339670",
     "status": "completed"
    },
    "tags": []
   },
   "outputs": [
    {
     "name": "stdout",
     "output_type": "stream",
     "text": [
      "<class 'pandas.core.frame.DataFrame'>\n",
      "RangeIndex: 690 entries, 0 to 689\n",
      "Data columns (total 16 columns):\n",
      " #   Column  Non-Null Count  Dtype  \n",
      "---  ------  --------------  -----  \n",
      " 0   CC1     690 non-null    object \n",
      " 1   CC2     690 non-null    object \n",
      " 2   CC3     690 non-null    float64\n",
      " 3   CC4     690 non-null    object \n",
      " 4   CC5     690 non-null    object \n",
      " 5   CC6     690 non-null    object \n",
      " 6   CC7     690 non-null    object \n",
      " 7   CC8     690 non-null    float64\n",
      " 8   CC9     690 non-null    object \n",
      " 9   CC10    690 non-null    object \n",
      " 10  CC11    690 non-null    int64  \n",
      " 11  CC12    690 non-null    object \n",
      " 12  CC13    690 non-null    object \n",
      " 13  CC14    690 non-null    object \n",
      " 14  CC15    690 non-null    int64  \n",
      " 15  CC16    690 non-null    object \n",
      "dtypes: float64(2), int64(2), object(12)\n",
      "memory usage: 86.4+ KB\n",
      "None \n",
      "\n",
      "              CC3         CC8       CC11           CC15\n",
      "count  690.000000  690.000000  690.00000     690.000000\n",
      "mean     4.758725    2.223406    2.40000    1017.385507\n",
      "std      4.978163    3.346513    4.86294    5210.102598\n",
      "min      0.000000    0.000000    0.00000       0.000000\n",
      "25%      1.000000    0.165000    0.00000       0.000000\n",
      "50%      2.750000    1.000000    0.00000       5.000000\n",
      "75%      7.207500    2.625000    3.00000     395.500000\n",
      "max     28.000000   28.500000   67.00000  100000.000000 \n",
      "\n"
     ]
    }
   ],
   "source": [
    "#EXPLORATORY DATA ANALYSIS\n",
    "print(df.info(), \"\\n\")\n",
    "\n",
    "print(df.describe(), \"\\n\")"
   ]
  },
  {
   "cell_type": "code",
   "execution_count": 6,
   "id": "c2bb852c",
   "metadata": {
    "execution": {
     "iopub.execute_input": "2021-12-30T05:04:55.431703Z",
     "iopub.status.busy": "2021-12-30T05:04:55.430612Z",
     "iopub.status.idle": "2021-12-30T05:04:55.463152Z",
     "shell.execute_reply": "2021-12-30T05:04:55.463765Z",
     "shell.execute_reply.started": "2021-12-30T05:03:43.669601Z"
    },
    "papermill": {
     "duration": 0.052589,
     "end_time": "2021-12-30T05:04:55.463992",
     "exception": false,
     "start_time": "2021-12-30T05:04:55.411403",
     "status": "completed"
    },
    "tags": []
   },
   "outputs": [
    {
     "name": "stdout",
     "output_type": "stream",
     "text": [
      "?    12\n",
      "Name: CC1, dtype: int64\n",
      "\n",
      "---------------------\n",
      "?        12\n",
      "22.67     9\n",
      "20.42     7\n",
      "18.83     6\n",
      "24.50     6\n",
      "         ..\n",
      "48.25     1\n",
      "28.33     1\n",
      "18.75     1\n",
      "18.50     1\n",
      "36.42     1\n",
      "Name: CC2, Length: 350, dtype: int64\n",
      "\n",
      "---------------------\n",
      "?    6\n",
      "Name: CC4, dtype: int64\n",
      "\n",
      "---------------------\n",
      "?    6\n",
      "Name: CC5, dtype: int64\n",
      "\n",
      "---------------------\n",
      "?    9\n",
      "Name: CC6, dtype: int64\n",
      "\n",
      "---------------------\n",
      "?    9\n",
      "Name: CC7, dtype: int64\n",
      "\n",
      "---------------------\n",
      "Series([], Name: CC9, dtype: int64)\n",
      "\n",
      "---------------------\n",
      "Series([], Name: CC10, dtype: int64)\n",
      "\n",
      "---------------------\n",
      "Series([], Name: CC12, dtype: int64)\n",
      "\n",
      "---------------------\n",
      "Series([], Name: CC13, dtype: int64)\n",
      "\n",
      "---------------------\n",
      "00000    132\n",
      "00200     35\n",
      "00120     35\n",
      "00160     34\n",
      "00100     30\n",
      "        ... \n",
      "00021      1\n",
      "00393      1\n",
      "00395      1\n",
      "00093      1\n",
      "00256      1\n",
      "Name: CC14, Length: 171, dtype: int64\n",
      "\n",
      "---------------------\n",
      "-    383\n",
      "+    307\n",
      "Name: CC16, dtype: int64\n",
      "\n",
      "---------------------\n"
     ]
    }
   ],
   "source": [
    "#INSPECTING NULL VALUES\n",
    "for col in df.columns:\n",
    "    if df[col].dtype == 'object':\n",
    "        print((df[df[col].str.isalpha()==False][col]).value_counts())\n",
    "        print(\"\\n---------------------\")"
   ]
  },
  {
   "cell_type": "code",
   "execution_count": 7,
   "id": "b865e394",
   "metadata": {
    "execution": {
     "iopub.execute_input": "2021-12-30T05:04:55.505319Z",
     "iopub.status.busy": "2021-12-30T05:04:55.504251Z",
     "iopub.status.idle": "2021-12-30T05:04:55.549155Z",
     "shell.execute_reply": "2021-12-30T05:04:55.548613Z",
     "shell.execute_reply.started": "2021-12-30T05:03:43.700397Z"
    },
    "papermill": {
     "duration": 0.069178,
     "end_time": "2021-12-30T05:04:55.549293",
     "exception": false,
     "start_time": "2021-12-30T05:04:55.480115",
     "status": "completed"
    },
    "tags": []
   },
   "outputs": [
    {
     "name": "stdout",
     "output_type": "stream",
     "text": [
      "FIND MISSNG VALUES\n",
      "CC1     12\n",
      "CC2     12\n",
      "CC3      0\n",
      "CC4      6\n",
      "CC5      6\n",
      "CC6      9\n",
      "CC7      9\n",
      "CC8      0\n",
      "CC9      0\n",
      "CC10     0\n",
      "CC11     0\n",
      "CC12     0\n",
      "CC13     0\n",
      "CC14    13\n",
      "CC15     0\n",
      "CC16     0\n",
      "dtype: int64\n",
      "\n",
      "\n",
      "REPLACED MISSING VALUES\n",
      "CC1     0\n",
      "CC2     0\n",
      "CC3     0\n",
      "CC4     0\n",
      "CC5     0\n",
      "CC6     0\n",
      "CC7     0\n",
      "CC8     0\n",
      "CC9     0\n",
      "CC10    0\n",
      "CC11    0\n",
      "CC12    0\n",
      "CC13    0\n",
      "CC14    0\n",
      "CC15    0\n",
      "CC16    0\n",
      "dtype: int64\n"
     ]
    }
   ],
   "source": [
    "#REPLACING '?' TO NaN\n",
    "df = df.replace('?', np.NaN)\n",
    "\n",
    "print(\"FIND MISSNG VALUES\")\n",
    "print(df.isna().sum())\n",
    "\n",
    "for col in df.columns:\n",
    "    if df[col].dtype == 'object':\n",
    "        df = df.fillna(df[col].value_counts().index[0])\n",
    "     \n",
    "print(\"\\n\")\n",
    "print(\"REPLACED MISSING VALUES\")\n",
    "print(df.isna().sum())"
   ]
  },
  {
   "cell_type": "code",
   "execution_count": 8,
   "id": "46178811",
   "metadata": {
    "execution": {
     "iopub.execute_input": "2021-12-30T05:04:55.587289Z",
     "iopub.status.busy": "2021-12-30T05:04:55.586089Z",
     "iopub.status.idle": "2021-12-30T05:04:55.591970Z",
     "shell.execute_reply": "2021-12-30T05:04:55.592487Z",
     "shell.execute_reply.started": "2021-12-30T05:03:43.762184Z"
    },
    "papermill": {
     "duration": 0.026289,
     "end_time": "2021-12-30T05:04:55.592838",
     "exception": false,
     "start_time": "2021-12-30T05:04:55.566549",
     "status": "completed"
    },
    "tags": []
   },
   "outputs": [],
   "source": [
    "#SPLIT FEATURES AND TARGET\n",
    "X = df.drop([\"CC16\"], axis=1)\n",
    "y = df[\"CC16\"] "
   ]
  },
  {
   "cell_type": "code",
   "execution_count": 9,
   "id": "0eacb554",
   "metadata": {
    "execution": {
     "iopub.execute_input": "2021-12-30T05:04:55.630095Z",
     "iopub.status.busy": "2021-12-30T05:04:55.629035Z",
     "iopub.status.idle": "2021-12-30T05:04:55.647707Z",
     "shell.execute_reply": "2021-12-30T05:04:55.647218Z",
     "shell.execute_reply.started": "2021-12-30T05:03:43.771690Z"
    },
    "papermill": {
     "duration": 0.038405,
     "end_time": "2021-12-30T05:04:55.647881",
     "exception": false,
     "start_time": "2021-12-30T05:04:55.609476",
     "status": "completed"
    },
    "tags": []
   },
   "outputs": [
    {
     "name": "stdout",
     "output_type": "stream",
     "text": [
      "     CC1  CC2     CC3  CC4  CC5  CC6  CC7   CC8  CC9  CC10  CC11  CC12  CC13  \\\n",
      "0      1  156   0.000    2    1   13    8  1.25    1     1     1     0     0   \n",
      "1      0  328   4.460    2    1   11    4  3.04    1     1     6     0     0   \n",
      "2      0   89   0.500    2    1   11    4  1.50    1     0     0     0     0   \n",
      "3      1  125   1.540    2    1   13    8  3.75    1     1     5     1     0   \n",
      "4      1   43   5.625    2    1   13    8  1.71    1     0     0     0     2   \n",
      "..   ...  ...     ...  ...  ...  ...  ...   ...  ...   ...   ...   ...   ...   \n",
      "685    1   52  10.085    3    3    5    4  1.25    0     0     0     0     0   \n",
      "686    0   71   0.750    2    1    2    8  2.00    0     1     2     1     0   \n",
      "687    0   97  13.500    3    3    6    3  2.00    0     1     1     1     0   \n",
      "688    1   20   0.205    2    1    0    8  0.04    0     0     0     0     0   \n",
      "689    1  197   3.375    2    1    2    4  8.29    0     0     0     1     0   \n",
      "\n",
      "     CC14  CC15  \n",
      "0      68     0  \n",
      "1      11   560  \n",
      "2      96   824  \n",
      "3      31     3  \n",
      "4      37     0  \n",
      "..    ...   ...  \n",
      "685    90     0  \n",
      "686    67   394  \n",
      "687    67     1  \n",
      "688    96   750  \n",
      "689     0     0  \n",
      "\n",
      "[690 rows x 15 columns]\n"
     ]
    }
   ],
   "source": [
    "#REPLACING OBJECT VALUES TO NUMERICAL VALUES\n",
    "le = LabelEncoder()\n",
    "\n",
    "for col in X.columns:\n",
    "    if X[col].dtype == 'object':\n",
    "        X[col]=le.fit_transform(X[col])\n",
    "print(X)"
   ]
  },
  {
   "cell_type": "code",
   "execution_count": 10,
   "id": "fde82317",
   "metadata": {
    "execution": {
     "iopub.execute_input": "2021-12-30T05:04:55.689275Z",
     "iopub.status.busy": "2021-12-30T05:04:55.688604Z",
     "iopub.status.idle": "2021-12-30T05:04:55.691165Z",
     "shell.execute_reply": "2021-12-30T05:04:55.691750Z",
     "shell.execute_reply.started": "2021-12-30T05:03:43.809736Z"
    },
    "papermill": {
     "duration": 0.027114,
     "end_time": "2021-12-30T05:04:55.691965",
     "exception": false,
     "start_time": "2021-12-30T05:04:55.664851",
     "status": "completed"
    },
    "tags": []
   },
   "outputs": [
    {
     "name": "stdout",
     "output_type": "stream",
     "text": [
      "0      1\n",
      "1      1\n",
      "2      1\n",
      "3      1\n",
      "4      1\n",
      "      ..\n",
      "685    0\n",
      "686    0\n",
      "687    0\n",
      "688    0\n",
      "689    0\n",
      "Name: CC16, Length: 690, dtype: int64\n"
     ]
    }
   ],
   "source": [
    "y.replace({\"+\": 1, \"-\": 0}, inplace=True)\n",
    "\n",
    "print(y)"
   ]
  },
  {
   "cell_type": "code",
   "execution_count": 11,
   "id": "93d8f14b",
   "metadata": {
    "execution": {
     "iopub.execute_input": "2021-12-30T05:04:55.733964Z",
     "iopub.status.busy": "2021-12-30T05:04:55.733283Z",
     "iopub.status.idle": "2021-12-30T05:04:55.740261Z",
     "shell.execute_reply": "2021-12-30T05:04:55.739148Z",
     "shell.execute_reply.started": "2021-12-30T05:03:43.820338Z"
    },
    "papermill": {
     "duration": 0.031337,
     "end_time": "2021-12-30T05:04:55.740476",
     "exception": false,
     "start_time": "2021-12-30T05:04:55.709139",
     "status": "completed"
    },
    "tags": []
   },
   "outputs": [
    {
     "name": "stdout",
     "output_type": "stream",
     "text": [
      "(483, 15)\n",
      "(207, 15)\n",
      "(483,)\n",
      "(207,)\n"
     ]
    }
   ],
   "source": [
    "#SPLIT THE DATASET TO TRAINING AND TESTING\n",
    "X_train, X_test, y_train, y_test = train_test_split(X, y, test_size = 0.30, random_state = 123)\n",
    "\n",
    "print(X_train.shape)\n",
    "print(X_test.shape)\n",
    "print(y_train.shape)\n",
    "print(y_test.shape)"
   ]
  },
  {
   "cell_type": "code",
   "execution_count": 12,
   "id": "72f52bae",
   "metadata": {
    "execution": {
     "iopub.execute_input": "2021-12-30T05:04:55.785100Z",
     "iopub.status.busy": "2021-12-30T05:04:55.784035Z",
     "iopub.status.idle": "2021-12-30T05:04:55.815455Z",
     "shell.execute_reply": "2021-12-30T05:04:55.814664Z",
     "shell.execute_reply.started": "2021-12-30T05:03:43.841135Z"
    },
    "papermill": {
     "duration": 0.056782,
     "end_time": "2021-12-30T05:04:55.815658",
     "exception": false,
     "start_time": "2021-12-30T05:04:55.758876",
     "status": "completed"
    },
    "tags": []
   },
   "outputs": [
    {
     "name": "stdout",
     "output_type": "stream",
     "text": [
      "Counfusion Matrix: \n",
      " [[96 13]\n",
      " [13 85]] \n",
      "\n",
      "Classification Report: \n",
      "               precision    recall  f1-score   support\n",
      "\n",
      "           0       0.88      0.88      0.88       109\n",
      "           1       0.87      0.87      0.87        98\n",
      "\n",
      "    accuracy                           0.87       207\n",
      "   macro avg       0.87      0.87      0.87       207\n",
      "weighted avg       0.87      0.87      0.87       207\n",
      " \n",
      "\n",
      "Accuracy Score:  0.874 \n",
      " \n",
      "\n"
     ]
    }
   ],
   "source": [
    "#BUILD LOGISTIC REGRESSION CLASSIFIER\n",
    "scaler = MinMaxScaler()\n",
    "logreg = LogisticRegression(random_state=123)\n",
    "\n",
    "model = make_pipeline(scaler, logreg)\n",
    "\n",
    "model.fit(X_train, y_train)\n",
    "\n",
    "y_pred = model.predict(X_test)\n",
    "\n",
    "# LOGISTIC REGRESSION CLASSIFIER METRIC SCORES\n",
    "print(\"Counfusion Matrix: \\n\",confusion_matrix (y_test, y_pred),\"\\n\")\n",
    "print(\"Classification Report: \\n\", classification_report (y_test, y_pred), \"\\n\")\n",
    "print(\"Accuracy Score:  %0.3f \\n\" %accuracy_score(y_test,y_pred), \"\\n\")"
   ]
  },
  {
   "cell_type": "code",
   "execution_count": 13,
   "id": "8a0bfaf6",
   "metadata": {
    "execution": {
     "iopub.execute_input": "2021-12-30T05:04:55.855541Z",
     "iopub.status.busy": "2021-12-30T05:04:55.854559Z",
     "iopub.status.idle": "2021-12-30T05:05:03.649464Z",
     "shell.execute_reply": "2021-12-30T05:05:03.648444Z",
     "shell.execute_reply.started": "2021-12-30T05:03:43.877610Z"
    },
    "papermill": {
     "duration": 7.815541,
     "end_time": "2021-12-30T05:05:03.649626",
     "exception": false,
     "start_time": "2021-12-30T05:04:55.834085",
     "status": "completed"
    },
    "tags": []
   },
   "outputs": [
    {
     "name": "stdout",
     "output_type": "stream",
     "text": [
      "Accuracy Score: 0.879 \n",
      "\n",
      "Best Parameters: \n",
      " {'C': 10, 'max_iter': 100, 'penalty': 'l2', 'solver': 'newton-cg', 'tol': 0.1} \n",
      "\n",
      "Best Score: 0.863 \n",
      "\n"
     ]
    }
   ],
   "source": [
    "#PERFORM HYPER PARAMETER OPTIMIZATION ON LOGISTIC REGRESSION CLASSIFIER\n",
    "param_grid = {\"solver\" : ['newton-cg', 'lbfgs', 'liblinear'],\n",
    "              \"penalty\" : ['l2'],\n",
    "              \"C\" : [100, 10, 1.0, 0.1, 0.01],\n",
    "              \"tol\" : [0.1, 0.01, 0.001, 0.0001, 0.00001],\n",
    "              \"max_iter\" : [100,150,200]}\n",
    "\n",
    "scaler = MinMaxScaler()\n",
    "logreg = LogisticRegression(random_state = 123)\n",
    "grid_search = GridSearchCV (logreg, param_grid = param_grid, cv=5, scoring='accuracy',error_score=0)\n",
    "\n",
    "model = make_pipeline(scaler, grid_search)\n",
    "\n",
    "grid_result = model.fit(X_train, y_train)\n",
    "\n",
    "y_pred = model.predict(X_test)\n",
    "\n",
    "#LOGISTIC REGRESSION CLASSIFIER HYPER PARAMETER SCORES\n",
    "print (\"Accuracy Score: %0.3f \\n\" %grid_result.score(X_test, y_test))\n",
    "gs = model.steps[1][1]\n",
    "print (\"Best Parameters: \\n\", gs.best_params_, \"\\n\")\n",
    "print (\"Best Score: %0.3f \\n\"%gs.best_score_)"
   ]
  },
  {
   "cell_type": "code",
   "execution_count": 14,
   "id": "24edb292",
   "metadata": {
    "execution": {
     "iopub.execute_input": "2021-12-30T05:05:03.697253Z",
     "iopub.status.busy": "2021-12-30T05:05:03.695686Z",
     "iopub.status.idle": "2021-12-30T05:05:03.714055Z",
     "shell.execute_reply": "2021-12-30T05:05:03.713517Z",
     "shell.execute_reply.started": "2021-12-30T05:03:50.771402Z"
    },
    "papermill": {
     "duration": 0.045636,
     "end_time": "2021-12-30T05:05:03.714195",
     "exception": false,
     "start_time": "2021-12-30T05:05:03.668559",
     "status": "completed"
    },
    "tags": []
   },
   "outputs": [
    {
     "name": "stdout",
     "output_type": "stream",
     "text": [
      "Counfusion Matrix: \n",
      " [[96 13]\n",
      " [21 77]] \n",
      "\n",
      "Classification Report: \n",
      "               precision    recall  f1-score   support\n",
      "\n",
      "           0       0.82      0.88      0.85       109\n",
      "           1       0.86      0.79      0.82        98\n",
      "\n",
      "    accuracy                           0.84       207\n",
      "   macro avg       0.84      0.83      0.83       207\n",
      "weighted avg       0.84      0.84      0.84       207\n",
      " \n",
      "\n",
      "Accuracy Score:  0.836 \n",
      " \n",
      "\n"
     ]
    }
   ],
   "source": [
    "#BUILD DECISION TREE CLASSIFIER\n",
    "scaler = MinMaxScaler()\n",
    "dtc = DecisionTreeClassifier(random_state=123)\n",
    "\n",
    "model = make_pipeline(scaler, dtc)\n",
    "\n",
    "model.fit(X_train, y_train)\n",
    "\n",
    "y_pred = model.predict(X_test)\n",
    "\n",
    "\n",
    "#DECISION TREE CLASSIFIER METRIC SCORES\n",
    "print(\"Counfusion Matrix: \\n\",confusion_matrix (y_test, y_pred),\"\\n\")\n",
    "print(\"Classification Report: \\n\", classification_report (y_test, y_pred), \"\\n\")\n",
    "print(\"Accuracy Score:  %0.3f \\n\" %accuracy_score(y_test,y_pred), \"\\n\")"
   ]
  },
  {
   "cell_type": "code",
   "execution_count": 15,
   "id": "cac871d5",
   "metadata": {
    "execution": {
     "iopub.execute_input": "2021-12-30T05:05:03.760954Z",
     "iopub.status.busy": "2021-12-30T05:05:03.760076Z",
     "iopub.status.idle": "2021-12-30T05:05:08.196975Z",
     "shell.execute_reply": "2021-12-30T05:05:08.197503Z",
     "shell.execute_reply.started": "2021-12-30T05:03:50.793232Z"
    },
    "papermill": {
     "duration": 4.465222,
     "end_time": "2021-12-30T05:05:08.197677",
     "exception": false,
     "start_time": "2021-12-30T05:05:03.732455",
     "status": "completed"
    },
    "tags": []
   },
   "outputs": [
    {
     "name": "stdout",
     "output_type": "stream",
     "text": [
      "Accuracy Score: 0.884 \n",
      "\n",
      "Best Parameters: \n",
      " {'criterion': 'gini', 'max_depth': 10, 'max_features': 'log2', 'min_samples_leaf': 20, 'splitter': 'best'} \n",
      "\n",
      "Best Score: 0.859 \n",
      "\n"
     ]
    }
   ],
   "source": [
    "#PERFORM HYPER PARAMETER OPTIMIZATION ON DECISION TREE CLASSIFIER\n",
    "param_grid = {\"criterion\" : ['gini','entropy'],\n",
    "              \"max_features\": ['log2', 'sqrt','auto'],\n",
    "              \"splitter\" : ['best','random'],\n",
    "              \"max_depth\" : [1, 2, 3, 4, 5, 10, 20,50],\n",
    "              \"min_samples_leaf\" : [10, 20, 30, 40, 50]}\n",
    "\n",
    "scaler = MinMaxScaler()\n",
    "dtc = DecisionTreeClassifier(random_state=123)\n",
    "grid_search = GridSearchCV (dtc, param_grid = param_grid, cv=5, scoring='accuracy',error_score=0)\n",
    "\n",
    "model = make_pipeline(scaler, grid_search)\n",
    "\n",
    "grid_result = model.fit(X_train, y_train)\n",
    "\n",
    "y_pred = model.predict(X_test)\n",
    "\n",
    "#DECISION TREE CLASSIFIER HYPER PARAMETER SCORES\n",
    "print (\"Accuracy Score: %0.3f \\n\" %grid_result.score(X_test, y_test))\n",
    "gs = model.steps[1][1]\n",
    "print (\"Best Parameters: \\n\", gs.best_params_, \"\\n\")\n",
    "print (\"Best Score: %0.3f \\n\"%gs.best_score_)"
   ]
  },
  {
   "cell_type": "code",
   "execution_count": 16,
   "id": "6b0a30c5",
   "metadata": {
    "execution": {
     "iopub.execute_input": "2021-12-30T05:05:08.238801Z",
     "iopub.status.busy": "2021-12-30T05:05:08.238139Z",
     "iopub.status.idle": "2021-12-30T05:05:08.255591Z",
     "shell.execute_reply": "2021-12-30T05:05:08.256139Z",
     "shell.execute_reply.started": "2021-12-30T05:03:54.549821Z"
    },
    "papermill": {
     "duration": 0.039421,
     "end_time": "2021-12-30T05:05:08.256335",
     "exception": false,
     "start_time": "2021-12-30T05:05:08.216914",
     "status": "completed"
    },
    "tags": []
   },
   "outputs": [
    {
     "name": "stdout",
     "output_type": "stream",
     "text": [
      "Counfusion Matrix: \n",
      " [[104   5]\n",
      " [ 30  68]] \n",
      "\n",
      "Classification Report: \n",
      "               precision    recall  f1-score   support\n",
      "\n",
      "           0       0.78      0.95      0.86       109\n",
      "           1       0.93      0.69      0.80        98\n",
      "\n",
      "    accuracy                           0.83       207\n",
      "   macro avg       0.85      0.82      0.83       207\n",
      "weighted avg       0.85      0.83      0.83       207\n",
      " \n",
      "\n",
      "Accuracy Score:  0.831 \n",
      " \n",
      "\n"
     ]
    }
   ],
   "source": [
    "#BUILD GAUSSIAN NB CLASSIFIER\n",
    "scaler = MinMaxScaler()\n",
    "gnb = GaussianNB()\n",
    "\n",
    "model = make_pipeline(scaler, gnb)\n",
    "\n",
    "model.fit(X_train, y_train)\n",
    "\n",
    "y_pred = model.predict(X_test)\n",
    "\n",
    "\n",
    "#GAUSSIAN CLASSIFIER NB CLASSIFIER METRIC SCORES\n",
    "print(\"Counfusion Matrix: \\n\",confusion_matrix (y_test, y_pred),\"\\n\")\n",
    "print(\"Classification Report: \\n\", classification_report (y_test, y_pred), \"\\n\")\n",
    "print(\"Accuracy Score:  %0.3f \\n\" %accuracy_score(y_test,y_pred), \"\\n\")"
   ]
  },
  {
   "cell_type": "code",
   "execution_count": 17,
   "id": "420cd398",
   "metadata": {
    "execution": {
     "iopub.execute_input": "2021-12-30T05:05:08.302636Z",
     "iopub.status.busy": "2021-12-30T05:05:08.301582Z",
     "iopub.status.idle": "2021-12-30T05:05:08.322751Z",
     "shell.execute_reply": "2021-12-30T05:05:08.323311Z",
     "shell.execute_reply.started": "2021-12-30T05:03:54.571088Z"
    },
    "papermill": {
     "duration": 0.047894,
     "end_time": "2021-12-30T05:05:08.323484",
     "exception": false,
     "start_time": "2021-12-30T05:05:08.275590",
     "status": "completed"
    },
    "tags": []
   },
   "outputs": [
    {
     "name": "stdout",
     "output_type": "stream",
     "text": [
      "Counfusion Matrix: \n",
      " [[96 13]\n",
      " [11 87]] \n",
      "\n",
      "Classification Report: \n",
      "               precision    recall  f1-score   support\n",
      "\n",
      "           0       0.90      0.88      0.89       109\n",
      "           1       0.87      0.89      0.88        98\n",
      "\n",
      "    accuracy                           0.88       207\n",
      "   macro avg       0.88      0.88      0.88       207\n",
      "weighted avg       0.88      0.88      0.88       207\n",
      " \n",
      "\n",
      "Accuracy Score:  0.884 \n",
      " \n",
      "\n"
     ]
    }
   ],
   "source": [
    "#BUILD SUPPORT VECTOR MACHINE CLASSIFIER\n",
    "scaler = MinMaxScaler()\n",
    "svm = SVC()\n",
    "\n",
    "model = make_pipeline(scaler, svm)\n",
    "\n",
    "model.fit(X_train, y_train)\n",
    "\n",
    "y_pred = model.predict(X_test)\n",
    "\n",
    "\n",
    "#SUPPORT VECTOR MACHINE CLASSIFIER METRIC SCORES\n",
    "print(\"Counfusion Matrix: \\n\",confusion_matrix (y_test, y_pred),\"\\n\")\n",
    "print(\"Classification Report: \\n\", classification_report (y_test, y_pred), \"\\n\")\n",
    "print(\"Accuracy Score:  %0.3f \\n\" %accuracy_score(y_test,y_pred), \"\\n\")"
   ]
  },
  {
   "cell_type": "code",
   "execution_count": 18,
   "id": "d31e7785",
   "metadata": {
    "execution": {
     "iopub.execute_input": "2021-12-30T05:05:08.372746Z",
     "iopub.status.busy": "2021-12-30T05:05:08.371666Z",
     "iopub.status.idle": "2021-12-30T05:05:09.663020Z",
     "shell.execute_reply": "2021-12-30T05:05:09.663658Z",
     "shell.execute_reply.started": "2021-12-30T05:03:54.596523Z"
    },
    "papermill": {
     "duration": 1.321684,
     "end_time": "2021-12-30T05:05:09.663918",
     "exception": false,
     "start_time": "2021-12-30T05:05:08.342234",
     "status": "completed"
    },
    "tags": []
   },
   "outputs": [
    {
     "name": "stdout",
     "output_type": "stream",
     "text": [
      "Accuracy Score: 0.884 \n",
      "\n",
      "Best Parameters: \n",
      " {'C': 1.0, 'kernel': 'rbf'} \n",
      "\n",
      "Best Score: 0.865 \n",
      "\n"
     ]
    }
   ],
   "source": [
    "#PERFORM HYPER PARAMETER OPTIMIZATION ON SUPPORT VECTOR MACHINE CLASSIFIER\n",
    "param_grid = {\"kernel\" : ['linear', 'poly', 'rbf', 'sigmoid'],\n",
    "              \"C\" : [100,50, 10, 1.0, 0.1, 0.001]}\n",
    "\n",
    "scaler = MinMaxScaler()\n",
    "svm = SVC()\n",
    "grid_search = GridSearchCV (svm, param_grid = param_grid, cv=5, scoring='accuracy',error_score=0)\n",
    "\n",
    "model = make_pipeline(scaler, grid_search)\n",
    "\n",
    "grid_result = model.fit(X_train, y_train)\n",
    "\n",
    "y_pred = model.predict(X_test)\n",
    "\n",
    "#SUPPORT VECTOR MACHINE CLASSIFIER HYPER PARAMETER SCORES\n",
    "print (\"Accuracy Score: %0.3f \\n\" %grid_result.score(X_test, y_test))\n",
    "gs = model.steps[1][1]\n",
    "print (\"Best Parameters: \\n\", gs.best_params_, \"\\n\")\n",
    "print (\"Best Score: %0.3f \\n\"%gs.best_score_)"
   ]
  },
  {
   "cell_type": "code",
   "execution_count": 19,
   "id": "88f35441",
   "metadata": {
    "execution": {
     "iopub.execute_input": "2021-12-30T05:05:09.707515Z",
     "iopub.status.busy": "2021-12-30T05:05:09.706520Z",
     "iopub.status.idle": "2021-12-30T05:05:09.901178Z",
     "shell.execute_reply": "2021-12-30T05:05:09.900381Z",
     "shell.execute_reply.started": "2021-12-30T05:03:55.634891Z"
    },
    "papermill": {
     "duration": 0.217169,
     "end_time": "2021-12-30T05:05:09.901372",
     "exception": false,
     "start_time": "2021-12-30T05:05:09.684203",
     "status": "completed"
    },
    "tags": []
   },
   "outputs": [
    {
     "name": "stdout",
     "output_type": "stream",
     "text": [
      "Counfusion Matrix: \n",
      " [[101   8]\n",
      " [ 14  84]] \n",
      "\n",
      "Classification Report: \n",
      "               precision    recall  f1-score   support\n",
      "\n",
      "           0       0.88      0.93      0.90       109\n",
      "           1       0.91      0.86      0.88        98\n",
      "\n",
      "    accuracy                           0.89       207\n",
      "   macro avg       0.90      0.89      0.89       207\n",
      "weighted avg       0.89      0.89      0.89       207\n",
      " \n",
      "\n",
      "Accuracy Score:  0.894 \n",
      " \n",
      "\n"
     ]
    }
   ],
   "source": [
    "#BUILD RANDOM FOREST CLASSIFIER\n",
    "scaler = MinMaxScaler()\n",
    "rand = RandomForestClassifier(random_state=123)\n",
    "\n",
    "model = make_pipeline(scaler, rand)\n",
    "\n",
    "model.fit(X_train, y_train)\n",
    "\n",
    "y_pred = model.predict(X_test)\n",
    "\n",
    "#RANDOM FOREST CLASSIFIER METRIC SCORES\n",
    "print(\"Counfusion Matrix: \\n\",confusion_matrix (y_test, y_pred),\"\\n\")\n",
    "print(\"Classification Report: \\n\", classification_report (y_test, y_pred), \"\\n\")\n",
    "print(\"Accuracy Score:  %0.3f \\n\" %accuracy_score(y_test,y_pred), \"\\n\")"
   ]
  },
  {
   "cell_type": "code",
   "execution_count": 20,
   "id": "91204d86",
   "metadata": {
    "execution": {
     "iopub.execute_input": "2021-12-30T05:05:09.948196Z",
     "iopub.status.busy": "2021-12-30T05:05:09.947370Z",
     "iopub.status.idle": "2021-12-30T05:05:27.879324Z",
     "shell.execute_reply": "2021-12-30T05:05:27.879785Z",
     "shell.execute_reply.started": "2021-12-30T05:03:55.810323Z"
    },
    "papermill": {
     "duration": 17.956707,
     "end_time": "2021-12-30T05:05:27.879999",
     "exception": false,
     "start_time": "2021-12-30T05:05:09.923292",
     "status": "completed"
    },
    "tags": []
   },
   "outputs": [
    {
     "name": "stdout",
     "output_type": "stream",
     "text": [
      "Accuracy Score: 0.865 \n",
      "\n",
      "Best Parameters: \n",
      " {'bootstrap': True, 'criterion': 'entropy', 'max_depth': 3, 'max_features': 'sqrt'} \n",
      "\n",
      "Best Score: 0.859 \n",
      "\n"
     ]
    }
   ],
   "source": [
    "#PERFORM HYPER PARAMETER OPTIMIZATION ON RANDOM FOREST CLASSIFIER\n",
    "param_grid = {\"max_depth\" : [3, 10 ,20],\n",
    "              \"max_features\": ['sqrt', 'log2'],\n",
    "              \"bootstrap\": [True, False],\n",
    "              \"criterion\": [\"gini\", \"entropy\"]}\n",
    "\n",
    "scaler = MinMaxScaler()\n",
    "rand = RandomForestClassifier(random_state=123)\n",
    "grid_search = GridSearchCV (rand, param_grid = param_grid, cv=5,scoring='accuracy',error_score=0)\n",
    "\n",
    "model = make_pipeline(scaler, grid_search)\n",
    "\n",
    "grid_result = model.fit(X_train, y_train)\n",
    "\n",
    "y_pred = model.predict(X_test)\n",
    "\n",
    "#RANDOM FOREST CLASSIFIER HYPER PARAMETER SCORES\n",
    "print (\"Accuracy Score: %0.3f \\n\" %grid_result.score(X_test, y_test))\n",
    "gs = model.steps[1][1]\n",
    "print (\"Best Parameters: \\n\", gs.best_params_, \"\\n\")\n",
    "print (\"Best Score: %0.3f \\n\"%gs.best_score_)"
   ]
  },
  {
   "cell_type": "code",
   "execution_count": 21,
   "id": "0e81ed76",
   "metadata": {
    "execution": {
     "iopub.execute_input": "2021-12-30T05:05:27.930036Z",
     "iopub.status.busy": "2021-12-30T05:05:27.924944Z",
     "iopub.status.idle": "2021-12-30T05:05:28.040660Z",
     "shell.execute_reply": "2021-12-30T05:05:28.040169Z",
     "shell.execute_reply.started": "2021-12-30T05:04:12.345868Z"
    },
    "papermill": {
     "duration": 0.13961,
     "end_time": "2021-12-30T05:05:28.040793",
     "exception": false,
     "start_time": "2021-12-30T05:05:27.901183",
     "status": "completed"
    },
    "tags": []
   },
   "outputs": [
    {
     "name": "stdout",
     "output_type": "stream",
     "text": [
      "Counfusion Matrix: \n",
      " [[95 14]\n",
      " [16 82]] \n",
      "\n",
      "Classification Report: \n",
      "               precision    recall  f1-score   support\n",
      "\n",
      "           0       0.86      0.87      0.86       109\n",
      "           1       0.85      0.84      0.85        98\n",
      "\n",
      "    accuracy                           0.86       207\n",
      "   macro avg       0.86      0.85      0.85       207\n",
      "weighted avg       0.86      0.86      0.85       207\n",
      " \n",
      "\n",
      "Accuracy Score:  0.855 \n",
      " \n",
      "\n"
     ]
    }
   ],
   "source": [
    "#BUILD ADC CLASSIFIER\n",
    "scaler = MinMaxScaler()\n",
    "adc = AdaBoostClassifier(random_state=123)\n",
    "\n",
    "model = make_pipeline(scaler, adc)\n",
    "\n",
    "model.fit(X_train, y_train)\n",
    "\n",
    "y_pred = model.predict(X_test)\n",
    "\n",
    "#ADC CLASSIFIER METRIC SCORES\n",
    "print(\"Counfusion Matrix: \\n\",confusion_matrix (y_test, y_pred),\"\\n\")\n",
    "print(\"Classification Report: \\n\", classification_report (y_test, y_pred), \"\\n\")\n",
    "print(\"Accuracy Score:  %0.3f \\n\" %accuracy_score(y_test,y_pred), \"\\n\")"
   ]
  },
  {
   "cell_type": "code",
   "execution_count": 22,
   "id": "8f9f7154",
   "metadata": {
    "execution": {
     "iopub.execute_input": "2021-12-30T05:05:28.084808Z",
     "iopub.status.busy": "2021-12-30T05:05:28.084175Z",
     "iopub.status.idle": "2021-12-30T05:05:28.231803Z",
     "shell.execute_reply": "2021-12-30T05:05:28.232296Z",
     "shell.execute_reply.started": "2021-12-30T05:04:12.447080Z"
    },
    "papermill": {
     "duration": 0.170993,
     "end_time": "2021-12-30T05:05:28.232459",
     "exception": false,
     "start_time": "2021-12-30T05:05:28.061466",
     "status": "completed"
    },
    "tags": []
   },
   "outputs": [
    {
     "name": "stdout",
     "output_type": "stream",
     "text": [
      "Counfusion Matrix: \n",
      " [[93 16]\n",
      " [15 83]] \n",
      "\n",
      "Classification Report: \n",
      "               precision    recall  f1-score   support\n",
      "\n",
      "           0       0.86      0.85      0.86       109\n",
      "           1       0.84      0.85      0.84        98\n",
      "\n",
      "    accuracy                           0.85       207\n",
      "   macro avg       0.85      0.85      0.85       207\n",
      "weighted avg       0.85      0.85      0.85       207\n",
      " \n",
      "\n",
      "Accuracy Score:  0.850 \n",
      " \n",
      "\n"
     ]
    }
   ],
   "source": [
    "#BUILD GBM CLASSIFIER\n",
    "scaler = MinMaxScaler()\n",
    "gbc = GradientBoostingClassifier(random_state=123)\n",
    "\n",
    "model = make_pipeline(scaler, gbc)\n",
    "\n",
    "model.fit(X_train, y_train)\n",
    "\n",
    "y_pred = model.predict(X_test)\n",
    "\n",
    "#GBM CLASSIFIER METRIC SCORES\n",
    "print(\"Counfusion Matrix: \\n\",confusion_matrix (y_test, y_pred),\"\\n\")\n",
    "print(\"Classification Report: \\n\", classification_report (y_test, y_pred), \"\\n\")\n",
    "print(\"Accuracy Score:  %0.3f \\n\" %accuracy_score(y_test,y_pred), \"\\n\")"
   ]
  },
  {
   "cell_type": "code",
   "execution_count": 23,
   "id": "ba9e7ab8",
   "metadata": {
    "execution": {
     "iopub.execute_input": "2021-12-30T05:05:28.282193Z",
     "iopub.status.busy": "2021-12-30T05:05:28.280409Z",
     "iopub.status.idle": "2021-12-30T05:05:28.708553Z",
     "shell.execute_reply": "2021-12-30T05:05:28.709319Z",
     "shell.execute_reply.started": "2021-12-30T05:04:12.585255Z"
    },
    "papermill": {
     "duration": 0.456869,
     "end_time": "2021-12-30T05:05:28.709542",
     "exception": false,
     "start_time": "2021-12-30T05:05:28.252673",
     "status": "completed"
    },
    "tags": []
   },
   "outputs": [
    {
     "name": "stdout",
     "output_type": "stream",
     "text": [
      "Counfusion Matrix: \n",
      " [[97 12]\n",
      " [14 84]] \n",
      "\n",
      "Classification Report: \n",
      "               precision    recall  f1-score   support\n",
      "\n",
      "           0       0.87      0.89      0.88       109\n",
      "           1       0.88      0.86      0.87        98\n",
      "\n",
      "    accuracy                           0.87       207\n",
      "   macro avg       0.87      0.87      0.87       207\n",
      "weighted avg       0.87      0.87      0.87       207\n",
      " \n",
      "\n",
      "Accuracy Score:  0.874 \n",
      " \n",
      "\n"
     ]
    }
   ],
   "source": [
    "#BUILD VOTING CLASSIFIER\n",
    "scaler = MinMaxScaler()\n",
    "logreg = LogisticRegression(random_state=123)\n",
    "dtc = DecisionTreeClassifier(random_state=123)\n",
    "gnb = GaussianNB()\n",
    "svm = SVC()\n",
    "rand = RandomForestClassifier(random_state=123)\n",
    "adc = AdaBoostClassifier(random_state=123)\n",
    "gbc = GradientBoostingClassifier(random_state=123)\n",
    "\n",
    "vc =VotingClassifier(estimators=[('logreg',logreg),('dtc',dtc),('gnb',gnb),('svm',svm),('rand',rand),('adc',adc),('gbc',gbc)],voting='hard')\n",
    "\n",
    "model = make_pipeline(scaler, vc)\n",
    "\n",
    "model.fit(X_train, y_train)\n",
    "\n",
    "y_pred = model.predict(X_test)\n",
    "\n",
    "#VOTING CLASSIFIER METRIC SCORES\n",
    "print(\"Counfusion Matrix: \\n\",confusion_matrix (y_test, y_pred),\"\\n\")\n",
    "print(\"Classification Report: \\n\", classification_report (y_test, y_pred), \"\\n\")\n",
    "print(\"Accuracy Score:  %0.3f \\n\" %accuracy_score(y_test,y_pred), \"\\n\")"
   ]
  }
 ],
 "metadata": {
  "kernelspec": {
   "display_name": "Python 3",
   "language": "python",
   "name": "python3"
  },
  "language_info": {
   "codemirror_mode": {
    "name": "ipython",
    "version": 3
   },
   "file_extension": ".py",
   "mimetype": "text/x-python",
   "name": "python",
   "nbconvert_exporter": "python",
   "pygments_lexer": "ipython3",
   "version": "3.7.12"
  },
  "papermill": {
   "default_parameters": {},
   "duration": 44.72891,
   "end_time": "2021-12-30T05:05:29.441874",
   "environment_variables": {},
   "exception": null,
   "input_path": "__notebook__.ipynb",
   "output_path": "__notebook__.ipynb",
   "parameters": {},
   "start_time": "2021-12-30T05:04:44.712964",
   "version": "2.3.3"
  }
 },
 "nbformat": 4,
 "nbformat_minor": 5
}
